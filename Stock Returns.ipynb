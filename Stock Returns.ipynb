{
 "cells": [
  {
   "cell_type": "code",
   "execution_count": 5,
   "id": "01cb2a87",
   "metadata": {},
   "outputs": [],
   "source": [
    "import numpy as np\n",
    "from pandas_datareader import data as wb\n",
    "import matplotlib.pyplot as plt"
   ]
  },
  {
   "cell_type": "code",
   "execution_count": 6,
   "id": "a3838f40",
   "metadata": {},
   "outputs": [],
   "source": [
    "PG = wb.DataReader('PG',data_source = 'yahoo', start='1995-1-1')"
   ]
  },
  {
   "cell_type": "code",
   "execution_count": 7,
   "id": "3cfeac37",
   "metadata": {
    "scrolled": true
   },
   "outputs": [
    {
     "data": {
      "text/plain": [
       "<bound method NDFrame.head of                   High         Low        Open       Close      Volume  \\\n",
       "Date                                                                     \n",
       "1995-01-03   15.625000   15.437500   15.468750   15.593750   3318400.0   \n",
       "1995-01-04   15.656250   15.312500   15.531250   15.468750   2218800.0   \n",
       "1995-01-05   15.437500   15.218750   15.375000   15.250000   2319600.0   \n",
       "1995-01-06   15.406250   15.156250   15.156250   15.281250   3438000.0   \n",
       "1995-01-09   15.406250   15.187500   15.343750   15.218750   1795200.0   \n",
       "...                ...         ...         ...         ...         ...   \n",
       "2022-01-18  158.529999  156.039993  158.529999  156.729996  10988400.0   \n",
       "2022-01-19  164.190002  156.970001  157.610001  162.000000  14088300.0   \n",
       "2022-01-20  164.330002  160.119995  160.119995  162.000000  10799100.0   \n",
       "2022-01-21  165.350006  162.100006  163.000000  162.619995  10899800.0   \n",
       "2022-01-24  164.110001  159.600006  163.429993  159.785004   7939449.0   \n",
       "\n",
       "             Adj Close  \n",
       "Date                    \n",
       "1995-01-03    7.971115  \n",
       "1995-01-04    7.907225  \n",
       "1995-01-05    7.795402  \n",
       "1995-01-06    7.811380  \n",
       "1995-01-09    7.779430  \n",
       "...                ...  \n",
       "2022-01-18  155.888290  \n",
       "2022-01-19  161.130005  \n",
       "2022-01-20  162.000000  \n",
       "2022-01-21  162.619995  \n",
       "2022-01-24  159.785004  \n",
       "\n",
       "[6814 rows x 6 columns]>"
      ]
     },
     "execution_count": 7,
     "metadata": {},
     "output_type": "execute_result"
    }
   ],
   "source": [
    "PG.head"
   ]
  },
  {
   "cell_type": "code",
   "execution_count": 8,
   "id": "dca92060",
   "metadata": {},
   "outputs": [
    {
     "data": {
      "text/plain": [
       "<bound method NDFrame.tail of                   High         Low        Open       Close      Volume  \\\n",
       "Date                                                                     \n",
       "1995-01-03   15.625000   15.437500   15.468750   15.593750   3318400.0   \n",
       "1995-01-04   15.656250   15.312500   15.531250   15.468750   2218800.0   \n",
       "1995-01-05   15.437500   15.218750   15.375000   15.250000   2319600.0   \n",
       "1995-01-06   15.406250   15.156250   15.156250   15.281250   3438000.0   \n",
       "1995-01-09   15.406250   15.187500   15.343750   15.218750   1795200.0   \n",
       "...                ...         ...         ...         ...         ...   \n",
       "2022-01-18  158.529999  156.039993  158.529999  156.729996  10988400.0   \n",
       "2022-01-19  164.190002  156.970001  157.610001  162.000000  14088300.0   \n",
       "2022-01-20  164.330002  160.119995  160.119995  162.000000  10799100.0   \n",
       "2022-01-21  165.350006  162.100006  163.000000  162.619995  10899800.0   \n",
       "2022-01-24  164.110001  159.600006  163.429993  159.785004   7939449.0   \n",
       "\n",
       "             Adj Close  \n",
       "Date                    \n",
       "1995-01-03    7.971115  \n",
       "1995-01-04    7.907225  \n",
       "1995-01-05    7.795402  \n",
       "1995-01-06    7.811380  \n",
       "1995-01-09    7.779430  \n",
       "...                ...  \n",
       "2022-01-18  155.888290  \n",
       "2022-01-19  161.130005  \n",
       "2022-01-20  162.000000  \n",
       "2022-01-21  162.619995  \n",
       "2022-01-24  159.785004  \n",
       "\n",
       "[6814 rows x 6 columns]>"
      ]
     },
     "execution_count": 8,
     "metadata": {},
     "output_type": "execute_result"
    }
   ],
   "source": [
    "PG.tail"
   ]
  },
  {
   "cell_type": "code",
   "execution_count": 10,
   "id": "e58fb9e6",
   "metadata": {},
   "outputs": [
    {
     "name": "stdout",
     "output_type": "stream",
     "text": [
      "Date\n",
      "1995-01-03         NaN\n",
      "1995-01-04   -0.008015\n",
      "1995-01-05   -0.014142\n",
      "1995-01-06    0.002050\n",
      "1995-01-09   -0.004090\n",
      "                ...   \n",
      "2022-01-18   -0.019273\n",
      "2022-01-19    0.033625\n",
      "2022-01-20    0.005399\n",
      "2022-01-21    0.003827\n",
      "2022-01-24   -0.017433\n",
      "Name: simple_return, Length: 6814, dtype: float64\n"
     ]
    }
   ],
   "source": [
    "PG['simple_return'] = (PG['Adj Close']/PG['Adj Close'].shift(1))-1\n",
    "print(PG['simple_return'])"
   ]
  },
  {
   "cell_type": "code",
   "execution_count": 11,
   "id": "463eb9c6",
   "metadata": {},
   "outputs": [
    {
     "data": {
      "text/plain": [
       "<function matplotlib.pyplot.show(close=None, block=None)>"
      ]
     },
     "execution_count": 11,
     "metadata": {},
     "output_type": "execute_result"
    },
    {
     "data": {
      "image/png": "[encoded data removed]",
      "text/plain": [
       "<Figure size 576x360 with 1 Axes>"
      ]
     },
     "metadata": {
      "needs_background": "light"
     },
     "output_type": "display_data"
    }
   ],
   "source": [
    "PG['simple_return'].plot(figsize=(8,5))\n",
    "plt.show"
   ]
  },
  {
   "cell_type": "code",
   "execution_count": 12,
   "id": "b018df43",
   "metadata": {},
   "outputs": [
    {
     "data": {
      "text/plain": [
       "0.0005402277713563732"
      ]
     },
     "execution_count": 12,
     "metadata": {},
     "output_type": "execute_result"
    }
   ],
   "source": [
    "avg_return_daily = PG['simple_return'].mean()\n",
    "avg_return_daily"
   ]
  },
  {
   "cell_type": "code",
   "execution_count": 13,
   "id": "d95f1070",
   "metadata": {},
   "outputs": [
    {
     "data": {
      "text/plain": [
       "0.1350569428390933"
      ]
     },
     "execution_count": 13,
     "metadata": {},
     "output_type": "execute_result"
    }
   ],
   "source": [
    "avg_return_annual = avg_return_daily * 250\n",
    "avg_return_annual"
   ]
  },
  {
   "cell_type": "code",
   "execution_count": null,
   "id": "8c012702",
   "metadata": {},
   "outputs": [],
   "source": []
  }
 ],
 "metadata": {
  "kernelspec": {
   "display_name": "Python 3 (ipykernel)",
   "language": "python",
   "name": "python3"
  },
  "language_info": {
   "codemirror_mode": {
    "name": "ipython",
    "version": 3
   },
   "file_extension": ".py",
   "mimetype": "text/x-python",
   "name": "python",
   "nbconvert_exporter": "python",
   "pygments_lexer": "ipython3",
   "version": "3.9.7"
  }
 },
 "nbformat": 4,
 "nbformat_minor": 5
}
